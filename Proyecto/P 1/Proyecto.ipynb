{
 "cells": [
  {
   "cell_type": "markdown",
   "id": "f13dfcda",
   "metadata": {},
   "source": [
    "# Microestructura y Sistemas de Trading\n",
    "## Proyecto Final\n",
    "\n",
    "Presenta :\n",
    "\n",
    "- José Armando Melchor Soto\n"
   ]
  },
  {
   "cell_type": "markdown",
   "id": "24d5b3f4",
   "metadata": {},
   "source": [
    "---"
   ]
  },
  {
   "cell_type": "markdown",
   "id": "df829952",
   "metadata": {},
   "source": [
    "### Librerías "
   ]
  },
  {
   "cell_type": "code",
   "execution_count": 100,
   "id": "093a3ead",
   "metadata": {},
   "outputs": [],
   "source": [
    "import pandas as pd\n",
    "import numpy as np\n",
    "import matplotlib.pyplot as plt\n",
    "import yfinance as yf\n",
    "import warnings\n",
    "import datetime as dt\n",
    "import matplotlib.pyplot as plt\n",
    "warnings.filterwarnings('ignore')"
   ]
  },
  {
   "cell_type": "markdown",
   "id": "69856349",
   "metadata": {},
   "source": [
    "---"
   ]
  },
  {
   "cell_type": "code",
   "execution_count": 101,
   "id": "9042f49c",
   "metadata": {},
   "outputs": [],
   "source": [
    "tickers = yf.download(\"GFINBURO.MX\", start='2019-01-01', end= '2025-01-01', progress=None)['Close']"
   ]
  },
  {
   "cell_type": "code",
   "execution_count": 102,
   "id": "91a5f821",
   "metadata": {},
   "outputs": [],
   "source": [
    "def get_historical_price(ticker: str, start: str):\n",
    "    start_dt = pd.to_datetime(start)\n",
    "    end_dt = start_dt + dt.timedelta(days=4)  # ventana por si no cotiza ese día\n",
    "    price = pd.DataFrame(yf.Ticker(ticker).history(start=start_dt, end=end_dt)[\"Close\"])\n",
    "    return float(price.iloc[0, 0])\n"
   ]
  },
  {
   "cell_type": "code",
   "execution_count": 103,
   "id": "ef4edd7b",
   "metadata": {},
   "outputs": [],
   "source": [
    "info = yf.Ticker(\"GFINBURO.MX\")\n",
    "balance_g = info.balance_sheet.iloc[:,0:-1]\n",
    "estados_r = info.financials.iloc[:,0:-1]"
   ]
  },
  {
   "cell_type": "code",
   "execution_count": 104,
   "id": "cb65e174",
   "metadata": {},
   "outputs": [],
   "source": [
    "def get_financial(ticker: str):\n",
    "    info = yf.Ticker(ticker)\n",
    "    balance_g = info.quarterly_balance_sheet   # 👈 trimestral\n",
    "    estados_r = info.quarterly_financials      # 👈 trimestral\n",
    "    return balance_g, estados_r\n",
    "\n",
    "balance_g, estados_r = get_financial(\"GFINBURO.MX\")"
   ]
  },
  {
   "cell_type": "code",
   "execution_count": 105,
   "id": "21124d66",
   "metadata": {},
   "outputs": [],
   "source": [
    "net_income = estados_r.loc['Net Income Common Stockholders'] \n",
    "Shares = balance_g.loc['Ordinary Shares Number']"
   ]
  },
  {
   "cell_type": "code",
   "execution_count": 116,
   "id": "57297822",
   "metadata": {},
   "outputs": [
    {
     "data": {
      "text/plain": [
       "2024-12-31    8.843010e+09\n",
       "2024-09-30    1.002247e+10\n",
       "2024-06-30    9.305170e+09\n",
       "2024-03-31             NaN\n",
       "Freq: -1QE-DEC, Name: Net Income, dtype: float64"
      ]
     },
     "execution_count": 116,
     "metadata": {},
     "output_type": "execute_result"
    }
   ],
   "source": [
    "net_income"
   ]
  },
  {
   "cell_type": "code",
   "execution_count": 117,
   "id": "b8b8a47c",
   "metadata": {},
   "outputs": [
    {
     "data": {
      "text/plain": [
       "2024-12-31    6.102414e+09\n",
       "2024-09-30    6.123390e+09\n",
       "2024-06-30    6.136799e+09\n",
       "2024-03-31    6.125566e+09\n",
       "Freq: -1QE-DEC, Name: Shares, dtype: float64"
      ]
     },
     "execution_count": 117,
     "metadata": {},
     "output_type": "execute_result"
    }
   ],
   "source": [
    "Shares"
   ]
  },
  {
   "cell_type": "code",
   "execution_count": 106,
   "id": "f2dff39a",
   "metadata": {},
   "outputs": [
    {
     "data": {
      "text/plain": [
       "2023-12-31         NaN\n",
       "2024-03-31         NaN\n",
       "2024-06-30    1.524908\n",
       "2024-09-30    1.642457\n",
       "2024-12-31    1.453944\n",
       "2025-03-31    1.290001\n",
       "2025-06-30    1.373073\n",
       "Freq: QE-DEC, dtype: float64"
      ]
     },
     "execution_count": 106,
     "metadata": {},
     "output_type": "execute_result"
    }
   ],
   "source": [
    "EPS = net_income / Shares\n",
    "EPS"
   ]
  },
  {
   "cell_type": "code",
   "execution_count": 107,
   "id": "fd7561c4",
   "metadata": {},
   "outputs": [
    {
     "name": "stdout",
     "output_type": "stream",
     "text": [
      "1.4569 %\n"
     ]
    }
   ],
   "source": [
    "mean = EPS.mean()\n",
    "print(mean.round(4), '%')"
   ]
  },
  {
   "cell_type": "code",
   "execution_count": 108,
   "id": "6c347752",
   "metadata": {},
   "outputs": [
    {
     "data": {
      "text/html": [
       "<div>\n",
       "<style scoped>\n",
       "    .dataframe tbody tr th:only-of-type {\n",
       "        vertical-align: middle;\n",
       "    }\n",
       "\n",
       "    .dataframe tbody tr th {\n",
       "        vertical-align: top;\n",
       "    }\n",
       "\n",
       "    .dataframe thead th {\n",
       "        text-align: right;\n",
       "    }\n",
       "</style>\n",
       "<table border=\"1\" class=\"dataframe\">\n",
       "  <thead>\n",
       "    <tr style=\"text-align: right;\">\n",
       "      <th>Ticker</th>\n",
       "      <th>GFINBURO.MX</th>\n",
       "    </tr>\n",
       "    <tr>\n",
       "      <th>Date</th>\n",
       "      <th></th>\n",
       "    </tr>\n",
       "  </thead>\n",
       "  <tbody>\n",
       "    <tr>\n",
       "      <th>2019-03-31</th>\n",
       "      <td>-0.067559</td>\n",
       "    </tr>\n",
       "    <tr>\n",
       "      <th>2019-06-30</th>\n",
       "      <td>0.054529</td>\n",
       "    </tr>\n",
       "    <tr>\n",
       "      <th>2019-09-30</th>\n",
       "      <td>-0.087377</td>\n",
       "    </tr>\n",
       "    <tr>\n",
       "      <th>2019-12-31</th>\n",
       "      <td>-0.074743</td>\n",
       "    </tr>\n",
       "    <tr>\n",
       "      <th>2020-03-31</th>\n",
       "      <td>-0.239620</td>\n",
       "    </tr>\n",
       "  </tbody>\n",
       "</table>\n",
       "</div>"
      ],
      "text/plain": [
       "Ticker      GFINBURO.MX\n",
       "Date                   \n",
       "2019-03-31    -0.067559\n",
       "2019-06-30     0.054529\n",
       "2019-09-30    -0.087377\n",
       "2019-12-31    -0.074743\n",
       "2020-03-31    -0.239620"
      ]
     },
     "execution_count": 108,
     "metadata": {},
     "output_type": "execute_result"
    }
   ],
   "source": [
    "returns = tickers.pct_change().dropna()\n",
    "trimestre = returns.resample(\"Q\").sum()\n",
    "trimestre.head()\n"
   ]
  },
  {
   "cell_type": "code",
   "execution_count": 119,
   "id": "410e2f39",
   "metadata": {},
   "outputs": [
    {
     "data": {
      "text/html": [
       "<div>\n",
       "<style scoped>\n",
       "    .dataframe tbody tr th:only-of-type {\n",
       "        vertical-align: middle;\n",
       "    }\n",
       "\n",
       "    .dataframe tbody tr th {\n",
       "        vertical-align: top;\n",
       "    }\n",
       "\n",
       "    .dataframe thead th {\n",
       "        text-align: right;\n",
       "    }\n",
       "</style>\n",
       "<table border=\"1\" class=\"dataframe\">\n",
       "  <thead>\n",
       "    <tr style=\"text-align: right;\">\n",
       "      <th></th>\n",
       "      <th>Quarter</th>\n",
       "      <th>Total Return</th>\n",
       "      <th>Shares Outstanding</th>\n",
       "      <th>EPS</th>\n",
       "    </tr>\n",
       "  </thead>\n",
       "  <tbody>\n",
       "    <tr>\n",
       "      <th>2024-12-31</th>\n",
       "      <td>2024-12-31</td>\n",
       "      <td>-0.021985</td>\n",
       "      <td>6.102414e+09</td>\n",
       "      <td>1.449100</td>\n",
       "    </tr>\n",
       "    <tr>\n",
       "      <th>2024-09-30</th>\n",
       "      <td>2024-09-30</td>\n",
       "      <td>0.049223</td>\n",
       "      <td>6.123390e+09</td>\n",
       "      <td>1.636751</td>\n",
       "    </tr>\n",
       "    <tr>\n",
       "      <th>2024-06-30</th>\n",
       "      <td>2024-06-30</td>\n",
       "      <td>-0.146467</td>\n",
       "      <td>6.136799e+09</td>\n",
       "      <td>1.516291</td>\n",
       "    </tr>\n",
       "    <tr>\n",
       "      <th>2024-03-31</th>\n",
       "      <td>2024-03-31</td>\n",
       "      <td>0.105800</td>\n",
       "      <td>6.125566e+09</td>\n",
       "      <td>NaN</td>\n",
       "    </tr>\n",
       "  </tbody>\n",
       "</table>\n",
       "</div>"
      ],
      "text/plain": [
       "              Quarter  Total Return  Shares Outstanding       EPS\n",
       "2024-12-31 2024-12-31     -0.021985        6.102414e+09  1.449100\n",
       "2024-09-30 2024-09-30      0.049223        6.123390e+09  1.636751\n",
       "2024-06-30 2024-06-30     -0.146467        6.136799e+09  1.516291\n",
       "2024-03-31 2024-03-31      0.105800        6.125566e+09       NaN"
      ]
     },
     "execution_count": 119,
     "metadata": {},
     "output_type": "execute_result"
    }
   ],
   "source": [
    "# Align all columns to EPS index\n",
    "df2 = pd.DataFrame({\n",
    "    \"Quarter\": EPS.index,\n",
    "    \"Total Return\": trimestre.reindex(EPS.index)[\"GFINBURO.MX\"],\n",
    "    \"Shares Outstanding\": Shares.reindex(EPS.index),\n",
    "    \"EPS\": EPS\n",
    "})\n",
    "\n",
    "df2 "
   ]
  },
  {
   "cell_type": "code",
   "execution_count": null,
   "id": "ea98055a",
   "metadata": {},
   "outputs": [],
   "source": []
  }
 ],
 "metadata": {
  "kernelspec": {
   "display_name": "Python 3",
   "language": "python",
   "name": "python3"
  },
  "language_info": {
   "codemirror_mode": {
    "name": "ipython",
    "version": 3
   },
   "file_extension": ".py",
   "mimetype": "text/x-python",
   "name": "python",
   "nbconvert_exporter": "python",
   "pygments_lexer": "ipython3",
   "version": "3.13.5"
  }
 },
 "nbformat": 4,
 "nbformat_minor": 5
}
